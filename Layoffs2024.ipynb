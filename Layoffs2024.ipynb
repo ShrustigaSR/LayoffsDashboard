{
  "nbformat": 4,
  "nbformat_minor": 0,
  "metadata": {
    "colab": {
      "provenance": [],
      "authorship_tag": "ABX9TyPcKeZH8QtR1kzLo+6ihEQx"
    },
    "kernelspec": {
      "name": "python3",
      "display_name": "Python 3"
    },
    "language_info": {
      "name": "python"
    }
  },
  "cells": [
    {
      "cell_type": "markdown",
      "source": [
        "Idea for the Project:-\n",
        "*   Do EDA on the Data\n",
        "*   Create Streamlit dashboard - Allowing viewers to interact\n",
        "*   Showing our findings\n",
        "*   PowerBI/Tableau Dashboard?\n",
        "\n",
        "\n",
        "\n"
      ],
      "metadata": {
        "id": "KGomjGiVDd0E"
      }
    },
    {
      "cell_type": "code",
      "execution_count": 1,
      "metadata": {
        "colab": {
          "base_uri": "https://localhost:8080/"
        },
        "id": "YgfF_RWUDOkU",
        "outputId": "198b9fdd-0de0-4944-feb3-daa4f9f4cfd4"
      },
      "outputs": [
        {
          "output_type": "stream",
          "name": "stdout",
          "text": [
            "Archive:  /content/layoffs.zip\n",
            "  inflating: layoffs_data(3).csv     \n"
          ]
        }
      ],
      "source": [
        "#Unzipping dataset\n",
        "!unzip /content/layoffs.zip"
      ]
    },
    {
      "cell_type": "code",
      "source": [
        "#Importing the libraries required for now\n",
        "import pandas as pd\n",
        "import matplotlib.pyplot as plt"
      ],
      "metadata": {
        "id": "rrOa3TPCD-nO"
      },
      "execution_count": 3,
      "outputs": []
    },
    {
      "cell_type": "code",
      "source": [],
      "metadata": {
        "id": "uhkgXeaBELQa"
      },
      "execution_count": null,
      "outputs": []
    }
  ]
}